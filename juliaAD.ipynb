{
 "cells": [
  {
   "cell_type": "code",
   "execution_count": 10,
   "metadata": {},
   "outputs": [],
   "source": [
    "using Flux, Statistics, ProgressMeter, Plots"
   ]
  },
  {
   "cell_type": "code",
   "execution_count": 2,
   "metadata": {},
   "outputs": [],
   "source": [
    "noisy = rand(Float32, 2, 1000)\n",
    "truth = [xor(col[1]>.5, col[2]>.5) for col in eachcol(noisy)];"
   ]
  },
  {
   "cell_type": "code",
   "execution_count": 3,
   "metadata": {},
   "outputs": [
    {
     "name": "stderr",
     "output_type": "stream",
     "text": [
      "┌ Info: The GPU function is being called but the GPU is not accessible. \n",
      "│ Defaulting back to the CPU. (No action is required if you want to run on the CPU).\n",
      "└ @ Flux /Users/lionelpeer/.julia/packages/Flux/n3cOc/src/functor.jl:301\n"
     ]
    }
   ],
   "source": [
    "model = Chain(\n",
    "    Dense(2 => 3, tanh),\n",
    "    BatchNorm(3),\n",
    "    Dense(3 => 2),\n",
    "    softmax\n",
    ") |> gpu;"
   ]
  },
  {
   "cell_type": "code",
   "execution_count": 4,
   "metadata": {},
   "outputs": [
    {
     "data": {
      "text/plain": [
       "2×1000 Matrix{Float32}:\n",
       " 0.463301  0.488332  0.454565  0.505679  …  0.471615  0.454076  0.440655\n",
       " 0.536699  0.511668  0.545435  0.494321     0.528385  0.545924  0.559345"
      ]
     },
     "metadata": {},
     "output_type": "display_data"
    }
   ],
   "source": [
    "out1 = model(noisy |> gpu) |> cpu"
   ]
  },
  {
   "cell_type": "code",
   "execution_count": 5,
   "metadata": {},
   "outputs": [],
   "source": [
    "target = Flux.onehotbatch(truth, [true, false])\n",
    "loader = Flux.DataLoader((noisy, target) |> gpu, batchsize=64, shuffle=true)\n",
    "optim = Flux.setup(Flux.Adam(0.01), model);"
   ]
  },
  {
   "cell_type": "code",
   "execution_count": 6,
   "metadata": {},
   "outputs": [],
   "source": [
    "# losses = []\n",
    "# @showprogress for epoch in 1:1_000\n",
    "#     for (x,y) in loader\n",
    "#         loss, grads = Flux.withgradient(model) do m\n",
    "#             y_hat = m(x)\n",
    "#             Flux.crossentropy(y_hat, y)\n",
    "#         end\n",
    "#         Flux.update!(optim, model, grads[1])\n",
    "#         push!(losses, loss)\n",
    "#     end\n",
    "# end"
   ]
  },
  {
   "cell_type": "code",
   "execution_count": 16,
   "metadata": {},
   "outputs": [
    {
     "name": "stdout",
     "output_type": "stream",
     "text": [
      "0.7316772\n",
      "((layers = ((weight = Float32[-0.021530159 0.07032434; 0.047946744 0.08559638; 0.0016346322 -0.03002288], bias = Float32[0.022522835, -0.03351566, 0.00018574623], σ = nothing), (λ = nothing, β = Float32[-0.020301037, -0.041499853, 0.005920957], γ = Float32[0.024135558, 0.08530525, 0.0065081446], μ = nothing, σ² = nothing, ϵ = -4.5947294f0, momentum = nothing, affine = nothing, track_stats = nothing, active = nothing, chs = nothing), (weight = Float32[-0.05844722 -0.10105412 0.05403688; 0.058447212 0.10105412 -0.05403688], bias = Float32[0.049161427, -0.04916141], σ = nothing), nothing),),)"
     ]
    }
   ],
   "source": [
    "grads = 0\n",
    "loss = 0\n",
    "for (i, (x, y)) in enumerate(loader)\n",
    "    loss, grads = Flux.withgradient(m -> Flux.crossentropy(m(x), y), model)\n",
    "    print(loss, \"\\n\", grads)\n",
    "    if i == 1\n",
    "        break\n",
    "    end\n",
    "end"
   ]
  },
  {
   "cell_type": "code",
   "execution_count": 17,
   "metadata": {},
   "outputs": [
    {
     "data": {
      "text/plain": [
       "0.7316772f0"
      ]
     },
     "metadata": {},
     "output_type": "display_data"
    }
   ],
   "source": [
    "loss"
   ]
  },
  {
   "cell_type": "code",
   "execution_count": 30,
   "metadata": {},
   "outputs": [
    {
     "data": {
      "text/plain": [
       "((weight = Float32[-0.021530159 0.07032434; 0.047946744 0.08559638; 0.0016346322 -0.03002288], bias = Float32[0.022522835, -0.03351566, 0.00018574623], σ = nothing), (λ = nothing, β = Float32[-0.020301037, -0.041499853, 0.005920957], γ = Float32[0.024135558, 0.08530525, 0.0065081446], μ = nothing, σ² = nothing, ϵ = -4.5947294f0, momentum = nothing, affine = nothing, track_stats = nothing, active = nothing, chs = nothing), (weight = Float32[-0.05844722 -0.10105412 0.05403688; 0.058447212 0.10105412 -0.05403688], bias = Float32[0.049161427, -0.04916141], σ = nothing), nothing)"
      ]
     },
     "metadata": {},
     "output_type": "display_data"
    }
   ],
   "source": [
    "grads[1].layers"
   ]
  },
  {
   "cell_type": "code",
   "execution_count": null,
   "metadata": {},
   "outputs": [],
   "source": []
  }
 ],
 "metadata": {
  "kernelspec": {
   "display_name": "Julia 1.9.1",
   "language": "julia",
   "name": "julia-1.9"
  },
  "language_info": {
   "file_extension": ".jl",
   "mimetype": "application/julia",
   "name": "julia",
   "version": "1.9.1"
  },
  "orig_nbformat": 4
 },
 "nbformat": 4,
 "nbformat_minor": 2
}
